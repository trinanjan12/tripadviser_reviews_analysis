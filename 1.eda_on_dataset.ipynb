{
 "cells": [
  {
   "cell_type": "markdown",
   "id": "7114087b",
   "metadata": {},
   "source": [
    "# EDA on DATASET\n",
    "### Notebook guide:\n",
    "***This notebook has the following parts***\n",
    "1. **Loading the data set** :  Load the hotel review dataset\n",
    "2. **Clean the dataset** : using mostly textacy library make lowercase,remove whitespace,replace hashtaggs,phone_numers,urls,emails,remove html_tags punctuation,replace emoji by meaning\n",
    "3. **check the clean data** : dropping outliers i.e very long text reviews\n",
    "4. **observations on the eda** "
   ]
  },
  {
   "cell_type": "markdown",
   "id": "ad6f910d",
   "metadata": {},
   "source": [
    "## 1. Load and Check data"
   ]
  },
  {
   "cell_type": "code",
   "execution_count": 1,
   "id": "629da565",
   "metadata": {},
   "outputs": [],
   "source": [
    "import pandas as pd\n",
    "\n",
    "review_org_data = pd.read_csv('./data/tripadvisor_hotel_reviews.csv')"
   ]
  },
  {
   "cell_type": "code",
   "execution_count": 2,
   "id": "eadf80a2",
   "metadata": {},
   "outputs": [
    {
     "data": {
      "text/html": [
       "<div>\n",
       "<style scoped>\n",
       "    .dataframe tbody tr th:only-of-type {\n",
       "        vertical-align: middle;\n",
       "    }\n",
       "\n",
       "    .dataframe tbody tr th {\n",
       "        vertical-align: top;\n",
       "    }\n",
       "\n",
       "    .dataframe thead th {\n",
       "        text-align: right;\n",
       "    }\n",
       "</style>\n",
       "<table border=\"1\" class=\"dataframe\">\n",
       "  <thead>\n",
       "    <tr style=\"text-align: right;\">\n",
       "      <th></th>\n",
       "      <th>Review</th>\n",
       "      <th>Rating</th>\n",
       "    </tr>\n",
       "  </thead>\n",
       "  <tbody>\n",
       "    <tr>\n",
       "      <th>0</th>\n",
       "      <td>nice hotel expensive parking got good deal sta...</td>\n",
       "      <td>4</td>\n",
       "    </tr>\n",
       "    <tr>\n",
       "      <th>1</th>\n",
       "      <td>ok nothing special charge diamond member hilto...</td>\n",
       "      <td>2</td>\n",
       "    </tr>\n",
       "    <tr>\n",
       "      <th>2</th>\n",
       "      <td>nice rooms not 4* experience hotel monaco seat...</td>\n",
       "      <td>3</td>\n",
       "    </tr>\n",
       "    <tr>\n",
       "      <th>3</th>\n",
       "      <td>unique, great stay, wonderful time hotel monac...</td>\n",
       "      <td>5</td>\n",
       "    </tr>\n",
       "    <tr>\n",
       "      <th>4</th>\n",
       "      <td>great stay great stay, went seahawk game aweso...</td>\n",
       "      <td>5</td>\n",
       "    </tr>\n",
       "  </tbody>\n",
       "</table>\n",
       "</div>"
      ],
      "text/plain": [
       "                                              Review  Rating\n",
       "0  nice hotel expensive parking got good deal sta...       4\n",
       "1  ok nothing special charge diamond member hilto...       2\n",
       "2  nice rooms not 4* experience hotel monaco seat...       3\n",
       "3  unique, great stay, wonderful time hotel monac...       5\n",
       "4  great stay great stay, went seahawk game aweso...       5"
      ]
     },
     "execution_count": 2,
     "metadata": {},
     "output_type": "execute_result"
    }
   ],
   "source": [
    "review_org_data.head()"
   ]
  },
  {
   "cell_type": "code",
   "execution_count": 3,
   "id": "c1722a20",
   "metadata": {},
   "outputs": [
    {
     "name": "stdout",
     "output_type": "stream",
     "text": [
      "<class 'pandas.core.frame.DataFrame'>\n",
      "RangeIndex: 20491 entries, 0 to 20490\n",
      "Data columns (total 2 columns):\n",
      " #   Column  Non-Null Count  Dtype \n",
      "---  ------  --------------  ----- \n",
      " 0   Review  20491 non-null  object\n",
      " 1   Rating  20491 non-null  int64 \n",
      "dtypes: int64(1), object(1)\n",
      "memory usage: 320.3+ KB\n"
     ]
    }
   ],
   "source": [
    "review_org_data.info()"
   ]
  },
  {
   "cell_type": "code",
   "execution_count": 4,
   "id": "27c6997a",
   "metadata": {},
   "outputs": [],
   "source": [
    "review_org_dat = review_org_data.dropna().drop_duplicates()"
   ]
  },
  {
   "cell_type": "code",
   "execution_count": 5,
   "id": "640ef3e5",
   "metadata": {},
   "outputs": [
    {
     "name": "stdout",
     "output_type": "stream",
     "text": [
      "<class 'pandas.core.frame.DataFrame'>\n",
      "RangeIndex: 20491 entries, 0 to 20490\n",
      "Data columns (total 2 columns):\n",
      " #   Column  Non-Null Count  Dtype \n",
      "---  ------  --------------  ----- \n",
      " 0   Review  20491 non-null  object\n",
      " 1   Rating  20491 non-null  int64 \n",
      "dtypes: int64(1), object(1)\n",
      "memory usage: 320.3+ KB\n"
     ]
    }
   ],
   "source": [
    "review_org_data.info()"
   ]
  },
  {
   "cell_type": "code",
   "execution_count": 6,
   "id": "901de515",
   "metadata": {},
   "outputs": [
    {
     "data": {
      "text/html": [
       "<div>\n",
       "<style scoped>\n",
       "    .dataframe tbody tr th:only-of-type {\n",
       "        vertical-align: middle;\n",
       "    }\n",
       "\n",
       "    .dataframe tbody tr th {\n",
       "        vertical-align: top;\n",
       "    }\n",
       "\n",
       "    .dataframe thead th {\n",
       "        text-align: right;\n",
       "    }\n",
       "</style>\n",
       "<table border=\"1\" class=\"dataframe\">\n",
       "  <thead>\n",
       "    <tr style=\"text-align: right;\">\n",
       "      <th></th>\n",
       "      <th>Review</th>\n",
       "      <th>Rating</th>\n",
       "    </tr>\n",
       "  </thead>\n",
       "  <tbody>\n",
       "    <tr>\n",
       "      <th>count</th>\n",
       "      <td>20491</td>\n",
       "      <td>20491.000000</td>\n",
       "    </tr>\n",
       "    <tr>\n",
       "      <th>unique</th>\n",
       "      <td>20491</td>\n",
       "      <td>NaN</td>\n",
       "    </tr>\n",
       "    <tr>\n",
       "      <th>top</th>\n",
       "      <td>nice hotel expensive parking got good deal sta...</td>\n",
       "      <td>NaN</td>\n",
       "    </tr>\n",
       "    <tr>\n",
       "      <th>freq</th>\n",
       "      <td>1</td>\n",
       "      <td>NaN</td>\n",
       "    </tr>\n",
       "    <tr>\n",
       "      <th>mean</th>\n",
       "      <td>NaN</td>\n",
       "      <td>3.952223</td>\n",
       "    </tr>\n",
       "    <tr>\n",
       "      <th>std</th>\n",
       "      <td>NaN</td>\n",
       "      <td>1.233030</td>\n",
       "    </tr>\n",
       "    <tr>\n",
       "      <th>min</th>\n",
       "      <td>NaN</td>\n",
       "      <td>1.000000</td>\n",
       "    </tr>\n",
       "    <tr>\n",
       "      <th>25%</th>\n",
       "      <td>NaN</td>\n",
       "      <td>3.000000</td>\n",
       "    </tr>\n",
       "    <tr>\n",
       "      <th>50%</th>\n",
       "      <td>NaN</td>\n",
       "      <td>4.000000</td>\n",
       "    </tr>\n",
       "    <tr>\n",
       "      <th>75%</th>\n",
       "      <td>NaN</td>\n",
       "      <td>5.000000</td>\n",
       "    </tr>\n",
       "    <tr>\n",
       "      <th>max</th>\n",
       "      <td>NaN</td>\n",
       "      <td>5.000000</td>\n",
       "    </tr>\n",
       "  </tbody>\n",
       "</table>\n",
       "</div>"
      ],
      "text/plain": [
       "                                                   Review        Rating\n",
       "count                                               20491  20491.000000\n",
       "unique                                              20491           NaN\n",
       "top     nice hotel expensive parking got good deal sta...           NaN\n",
       "freq                                                    1           NaN\n",
       "mean                                                  NaN      3.952223\n",
       "std                                                   NaN      1.233030\n",
       "min                                                   NaN      1.000000\n",
       "25%                                                   NaN      3.000000\n",
       "50%                                                   NaN      4.000000\n",
       "75%                                                   NaN      5.000000\n",
       "max                                                   NaN      5.000000"
      ]
     },
     "execution_count": 6,
     "metadata": {},
     "output_type": "execute_result"
    }
   ],
   "source": [
    "review_org_data.describe(include='all')"
   ]
  },
  {
   "cell_type": "code",
   "execution_count": 7,
   "id": "289834c4",
   "metadata": {},
   "outputs": [
    {
     "data": {
      "text/plain": [
       "<AxesSubplot:>"
      ]
     },
     "execution_count": 7,
     "metadata": {},
     "output_type": "execute_result"
    },
    {
     "data": {
      "image/png": "[encoded data removed]",
      "text/plain": [
       "<Figure size 432x288 with 1 Axes>"
      ]
     },
     "metadata": {
      "needs_background": "light"
     },
     "output_type": "display_data"
    }
   ],
   "source": [
    "review_org_data['Rating'].hist()"
   ]
  },
  {
   "cell_type": "code",
   "execution_count": null,
   "id": "24701eb9",
   "metadata": {},
   "outputs": [],
   "source": [
    "## Looks like the data is skewed, as negative ratings has less number of samples than positive ratings"
   ]
  },
  {
   "cell_type": "markdown",
   "id": "22f468de",
   "metadata": {},
   "source": [
    "## 2. Clean the dataset"
   ]
  },
  {
   "cell_type": "code",
   "execution_count": 8,
   "id": "564d2df4",
   "metadata": {},
   "outputs": [],
   "source": [
    "# lets apply some standard preporcessing for the data \n",
    "# lowercase\n",
    "# remove whitespace,replace hashtaggs,phone_numers,urls,emails\n",
    "# remove html_tags punctuation\n",
    "# replace emoji by meaning"
   ]
  },
  {
   "cell_type": "code",
   "execution_count": 12,
   "id": "078cf42d",
   "metadata": {},
   "outputs": [
    {
     "name": "stderr",
     "output_type": "stream",
     "text": [
      "[nltk_data] Downloading package stopwords to /home/ubuntu/nltk_data...\n",
      "[nltk_data]   Package stopwords is already up-to-date!\n"
     ]
    }
   ],
   "source": [
    "import re\n",
    "import textacy\n",
    "from textacy import preprocessing\n",
    "from emoji_translate.emoji_translate import Translator\n",
    "import nltk\n",
    "from nltk.corpus import stopwords\n",
    "\n",
    "nltk.download('stopwords')\n",
    "\n",
    "emo = Translator(exact_match_only=False, randomize=True)\n",
    "\n",
    "\n",
    "def remove_stopword(x):\n",
    "    return [y for y in x.split(' ') if y not in stopwords.words('english')]\n",
    "    # return (' ').join([y for y in x.split(' ') if y not in stopwords.words('english')])\n",
    "\n",
    "\n",
    "def text_preprocessing(text):\n",
    "    '''\n",
    "     lowercase,remove whitespace,replace hashtaggs,phone_numers,urls,emails\n",
    "     remove html_tags punctuation\n",
    "     replace emoji by meaning\n",
    "    '''\n",
    "    text_new = text.lower()\n",
    "    text_new = re.sub(' +', ' ', text_new)\n",
    "    text_new = textacy.preprocessing.replace.hashtags(text_new, repl='_HASH_')\n",
    "    text_new = textacy.preprocessing.replace.phone_numbers(text_new,\n",
    "                                                           repl='_PHONENUM_')\n",
    "    text_new = textacy.preprocessing.remove.html_tags(text_new)\n",
    "    text_new = textacy.preprocessing.replace.urls(text_new, repl='_URL_')\n",
    "    text_new = textacy.preprocessing.replace.emails(text_new, repl='_EMAIL_')\n",
    "    text_new = textacy.preprocessing.remove.punctuation(text_new,\n",
    "                                                        only=[\",\", \";\", \":\"])\n",
    "    text_new = emo.demojify(text_new)\n",
    "    return text_new"
   ]
  },
  {
   "cell_type": "code",
   "execution_count": 10,
   "id": "7b615b8c",
   "metadata": {},
   "outputs": [],
   "source": [
    "# TODO: using parallel processing here to make it faster\n",
    "review_org_data['clean_text'] = review_org_data['Review'].apply(\n",
    "    lambda x: text_preprocessing(x))"
   ]
  },
  {
   "cell_type": "code",
   "execution_count": 13,
   "id": "270fb1f0",
   "metadata": {},
   "outputs": [],
   "source": [
    "# TODO: using parallel processing here\n",
    "review_org_data['word_list'] = review_org_data['clean_text'].apply(lambda x : remove_stopword(x))"
   ]
  },
  {
   "cell_type": "code",
   "execution_count": 17,
   "id": "ef026e6e",
   "metadata": {},
   "outputs": [],
   "source": [
    "review_org_data['text_length'] = review_org_data[\"word_list\"].apply(lambda x : len(x))"
   ]
  },
  {
   "cell_type": "code",
   "execution_count": 18,
   "id": "c31bb2f3",
   "metadata": {},
   "outputs": [
    {
     "data": {
      "text/html": [
       "<div>\n",
       "<style scoped>\n",
       "    .dataframe tbody tr th:only-of-type {\n",
       "        vertical-align: middle;\n",
       "    }\n",
       "\n",
       "    .dataframe tbody tr th {\n",
       "        vertical-align: top;\n",
       "    }\n",
       "\n",
       "    .dataframe thead th {\n",
       "        text-align: right;\n",
       "    }\n",
       "</style>\n",
       "<table border=\"1\" class=\"dataframe\">\n",
       "  <thead>\n",
       "    <tr style=\"text-align: right;\">\n",
       "      <th></th>\n",
       "      <th>Review</th>\n",
       "      <th>Rating</th>\n",
       "      <th>clean_text</th>\n",
       "      <th>word_list</th>\n",
       "      <th>text_length</th>\n",
       "    </tr>\n",
       "  </thead>\n",
       "  <tbody>\n",
       "    <tr>\n",
       "      <th>0</th>\n",
       "      <td>nice hotel expensive parking got good deal sta...</td>\n",
       "      <td>4</td>\n",
       "      <td>nice hotel expensive parking got good deal sta...</td>\n",
       "      <td>[nice, hotel, expensive, parking, got, good, d...</td>\n",
       "      <td>92</td>\n",
       "    </tr>\n",
       "    <tr>\n",
       "      <th>1</th>\n",
       "      <td>ok nothing special charge diamond member hilto...</td>\n",
       "      <td>2</td>\n",
       "      <td>ok nothing special charge diamond member hilto...</td>\n",
       "      <td>[ok, nothing, special, charge, diamond, member...</td>\n",
       "      <td>257</td>\n",
       "    </tr>\n",
       "    <tr>\n",
       "      <th>2</th>\n",
       "      <td>nice rooms not 4* experience hotel monaco seat...</td>\n",
       "      <td>3</td>\n",
       "      <td>nice rooms not 4* experience hotel monaco seat...</td>\n",
       "      <td>[nice, rooms, 4*, experience, hotel, monaco, s...</td>\n",
       "      <td>227</td>\n",
       "    </tr>\n",
       "    <tr>\n",
       "      <th>3</th>\n",
       "      <td>unique, great stay, wonderful time hotel monac...</td>\n",
       "      <td>5</td>\n",
       "      <td>unique  great stay  wonderful time hotel monac...</td>\n",
       "      <td>[unique, , great, stay, , wonderful, time, hot...</td>\n",
       "      <td>99</td>\n",
       "    </tr>\n",
       "    <tr>\n",
       "      <th>4</th>\n",
       "      <td>great stay great stay, went seahawk game aweso...</td>\n",
       "      <td>5</td>\n",
       "      <td>great stay great stay  went seahawk game aweso...</td>\n",
       "      <td>[great, stay, great, stay, , went, seahawk, ga...</td>\n",
       "      <td>213</td>\n",
       "    </tr>\n",
       "  </tbody>\n",
       "</table>\n",
       "</div>"
      ],
      "text/plain": [
       "                                              Review  Rating  \\\n",
       "0  nice hotel expensive parking got good deal sta...       4   \n",
       "1  ok nothing special charge diamond member hilto...       2   \n",
       "2  nice rooms not 4* experience hotel monaco seat...       3   \n",
       "3  unique, great stay, wonderful time hotel monac...       5   \n",
       "4  great stay great stay, went seahawk game aweso...       5   \n",
       "\n",
       "                                          clean_text  \\\n",
       "0  nice hotel expensive parking got good deal sta...   \n",
       "1  ok nothing special charge diamond member hilto...   \n",
       "2  nice rooms not 4* experience hotel monaco seat...   \n",
       "3  unique  great stay  wonderful time hotel monac...   \n",
       "4  great stay great stay  went seahawk game aweso...   \n",
       "\n",
       "                                           word_list  text_length  \n",
       "0  [nice, hotel, expensive, parking, got, good, d...           92  \n",
       "1  [ok, nothing, special, charge, diamond, member...          257  \n",
       "2  [nice, rooms, 4*, experience, hotel, monaco, s...          227  \n",
       "3  [unique, , great, stay, , wonderful, time, hot...           99  \n",
       "4  [great, stay, great, stay, , went, seahawk, ga...          213  "
      ]
     },
     "execution_count": 18,
     "metadata": {},
     "output_type": "execute_result"
    }
   ],
   "source": [
    "review_org_data.head()"
   ]
  },
  {
   "cell_type": "markdown",
   "id": "df229c4a",
   "metadata": {},
   "source": [
    "# 3. Check the clean data"
   ]
  },
  {
   "cell_type": "code",
   "execution_count": 20,
   "id": "0b82348e",
   "metadata": {},
   "outputs": [
    {
     "data": {
      "text/plain": [
       "<AxesSubplot:ylabel='Count'>"
      ]
     },
     "execution_count": 20,
     "metadata": {},
     "output_type": "execute_result"
    },
    {
     "data": {
      "image/png": "[encoded data removed]",
      "text/plain": [
       "<Figure size 864x576 with 1 Axes>"
      ]
     },
     "metadata": {},
     "output_type": "display_data"
    }
   ],
   "source": [
    "import seaborn as sns\n",
    "from matplotlib import pyplot as plt\n",
    "sns.set_theme(\n",
    "    context='notebook',\n",
    "    style='darkgrid',\n",
    "    palette='deep',\n",
    "    font='sans-serif',\n",
    "    font_scale=1,\n",
    "    color_codes=True,\n",
    "    rc=None,\n",
    ")\n",
    "plt.figure(figsize=(12,8))\n",
    "sns.histplot(list(review_org_data['text_length'].values))"
   ]
  },
  {
   "cell_type": "code",
   "execution_count": 21,
   "id": "6db4077c",
   "metadata": {},
   "outputs": [
    {
     "data": {
      "text/html": [
       "<style type=\"text/css\">\n",
       "#T_20799_row0_col1 {\n",
       "  background-color: #3f007d;\n",
       "  color: #f1f1f1;\n",
       "}\n",
       "#T_20799_row1_col1 {\n",
       "  background-color: #8582bc;\n",
       "  color: #f1f1f1;\n",
       "}\n",
       "#T_20799_row2_col1 {\n",
       "  background-color: #dadaeb;\n",
       "  color: #000000;\n",
       "}\n",
       "#T_20799_row3_col1 {\n",
       "  background-color: #e4e3f0;\n",
       "  color: #000000;\n",
       "}\n",
       "#T_20799_row4_col1 {\n",
       "  background-color: #eeecf4;\n",
       "  color: #000000;\n",
       "}\n",
       "#T_20799_row5_col1 {\n",
       "  background-color: #f0eef6;\n",
       "  color: #000000;\n",
       "}\n",
       "#T_20799_row6_col1 {\n",
       "  background-color: #f3f2f8;\n",
       "  color: #000000;\n",
       "}\n",
       "#T_20799_row7_col1 {\n",
       "  background-color: #fbfafc;\n",
       "  color: #000000;\n",
       "}\n",
       "#T_20799_row8_col1 {\n",
       "  background-color: #fcfbfd;\n",
       "  color: #000000;\n",
       "}\n",
       "</style>\n",
       "<table id=\"T_20799\">\n",
       "  <thead>\n",
       "    <tr>\n",
       "      <th class=\"blank level0\" >&nbsp;</th>\n",
       "      <th id=\"T_20799_level0_col0\" class=\"col_heading level0 col0\" >Common_words</th>\n",
       "      <th id=\"T_20799_level0_col1\" class=\"col_heading level0 col1\" >count</th>\n",
       "    </tr>\n",
       "  </thead>\n",
       "  <tbody>\n",
       "    <tr>\n",
       "      <th id=\"T_20799_level0_row0\" class=\"row_heading level0 row0\" >1</th>\n",
       "      <td id=\"T_20799_row0_col0\" class=\"data row0 col0\" >hotel</td>\n",
       "      <td id=\"T_20799_row0_col1\" class=\"data row0 col1\" >48765</td>\n",
       "    </tr>\n",
       "    <tr>\n",
       "      <th id=\"T_20799_level0_row1\" class=\"row_heading level0 row1\" >2</th>\n",
       "      <td id=\"T_20799_row1_col0\" class=\"data row1 col0\" >room</td>\n",
       "      <td id=\"T_20799_row1_col1\" class=\"data row1 col1\" >34240</td>\n",
       "    </tr>\n",
       "    <tr>\n",
       "      <th id=\"T_20799_level0_row2\" class=\"row_heading level0 row2\" >3</th>\n",
       "      <td id=\"T_20799_row2_col0\" class=\"data row2 col0\" >great</td>\n",
       "      <td id=\"T_20799_row2_col1\" class=\"data row2 col1\" >21057</td>\n",
       "    </tr>\n",
       "    <tr>\n",
       "      <th id=\"T_20799_level0_row3\" class=\"row_heading level0 row3\" >4</th>\n",
       "      <td id=\"T_20799_row3_col0\" class=\"data row3 col0\" >n't</td>\n",
       "      <td id=\"T_20799_row3_col1\" class=\"data row3 col1\" >18984</td>\n",
       "    </tr>\n",
       "    <tr>\n",
       "      <th id=\"T_20799_level0_row4\" class=\"row_heading level0 row4\" >5</th>\n",
       "      <td id=\"T_20799_row4_col0\" class=\"data row4 col0\" >good</td>\n",
       "      <td id=\"T_20799_row4_col1\" class=\"data row4 col1\" >16944</td>\n",
       "    </tr>\n",
       "    <tr>\n",
       "      <th id=\"T_20799_level0_row5\" class=\"row_heading level0 row5\" >6</th>\n",
       "      <td id=\"T_20799_row5_col0\" class=\"data row5 col0\" >staff</td>\n",
       "      <td id=\"T_20799_row5_col1\" class=\"data row5 col1\" >16181</td>\n",
       "    </tr>\n",
       "    <tr>\n",
       "      <th id=\"T_20799_level0_row6\" class=\"row_heading level0 row6\" >7</th>\n",
       "      <td id=\"T_20799_row6_col0\" class=\"data row6 col0\" >stay</td>\n",
       "      <td id=\"T_20799_row6_col1\" class=\"data row6 col1\" >15138</td>\n",
       "    </tr>\n",
       "    <tr>\n",
       "      <th id=\"T_20799_level0_row7\" class=\"row_heading level0 row7\" >8</th>\n",
       "      <td id=\"T_20799_row7_col0\" class=\"data row7 col0\" >nice</td>\n",
       "      <td id=\"T_20799_row7_col1\" class=\"data row7 col1\" >12385</td>\n",
       "    </tr>\n",
       "    <tr>\n",
       "      <th id=\"T_20799_level0_row8\" class=\"row_heading level0 row8\" >9</th>\n",
       "      <td id=\"T_20799_row8_col0\" class=\"data row8 col0\" >rooms</td>\n",
       "      <td id=\"T_20799_row8_col1\" class=\"data row8 col1\" >11994</td>\n",
       "    </tr>\n",
       "  </tbody>\n",
       "</table>\n"
      ],
      "text/plain": [
       "<pandas.io.formats.style.Styler at 0x7fe46af94670>"
      ]
     },
     "execution_count": 21,
     "metadata": {},
     "output_type": "execute_result"
    }
   ],
   "source": [
    "# let's check common words on the entire corpus\n",
    "from collections import Counter\n",
    "top = Counter([item for sublist in review_org_data['word_list'] for item in sublist])\n",
    "temp = pd.DataFrame(top.most_common(10))\n",
    "temp = temp.iloc[1:,:]\n",
    "temp.columns = ['Common_words','count']\n",
    "temp.style.background_gradient(cmap='Purples')"
   ]
  },
  {
   "cell_type": "code",
   "execution_count": 23,
   "id": "19e35f9a",
   "metadata": {},
   "outputs": [
    {
     "data": {
      "text/html": [
       "<style type=\"text/css\">\n",
       "#T_c496e_row0_col1 {\n",
       "  background-color: #3f007d;\n",
       "  color: #f1f1f1;\n",
       "}\n",
       "#T_c496e_row1_col1 {\n",
       "  background-color: #460c83;\n",
       "  color: #f1f1f1;\n",
       "}\n",
       "#T_c496e_row2_col1 {\n",
       "  background-color: #c2c3df;\n",
       "  color: #000000;\n",
       "}\n",
       "#T_c496e_row3_col1 {\n",
       "  background-color: #f2f0f7;\n",
       "  color: #000000;\n",
       "}\n",
       "#T_c496e_row4_col1, #T_c496e_row5_col1 {\n",
       "  background-color: #f8f7fa;\n",
       "  color: #000000;\n",
       "}\n",
       "#T_c496e_row6_col1 {\n",
       "  background-color: #fbfafc;\n",
       "  color: #000000;\n",
       "}\n",
       "#T_c496e_row7_col1, #T_c496e_row8_col1 {\n",
       "  background-color: #fcfbfd;\n",
       "  color: #000000;\n",
       "}\n",
       "</style>\n",
       "<table id=\"T_c496e\">\n",
       "  <thead>\n",
       "    <tr>\n",
       "      <th class=\"blank level0\" >&nbsp;</th>\n",
       "      <th id=\"T_c496e_level0_col0\" class=\"col_heading level0 col0\" >Common_words</th>\n",
       "      <th id=\"T_c496e_level0_col1\" class=\"col_heading level0 col1\" >count</th>\n",
       "    </tr>\n",
       "  </thead>\n",
       "  <tbody>\n",
       "    <tr>\n",
       "      <th id=\"T_c496e_level0_row0\" class=\"row_heading level0 row0\" >1</th>\n",
       "      <td id=\"T_c496e_row0_col0\" class=\"data row0 col0\" >hotel</td>\n",
       "      <td id=\"T_c496e_row0_col1\" class=\"data row0 col1\" >7756</td>\n",
       "    </tr>\n",
       "    <tr>\n",
       "      <th id=\"T_c496e_level0_row1\" class=\"row_heading level0 row1\" >2</th>\n",
       "      <td id=\"T_c496e_row1_col0\" class=\"data row1 col0\" >room</td>\n",
       "      <td id=\"T_c496e_row1_col1\" class=\"data row1 col1\" >7517</td>\n",
       "    </tr>\n",
       "    <tr>\n",
       "      <th id=\"T_c496e_level0_row2\" class=\"row_heading level0 row2\" >3</th>\n",
       "      <td id=\"T_c496e_row2_col0\" class=\"data row2 col0\" >n't</td>\n",
       "      <td id=\"T_c496e_row2_col1\" class=\"data row2 col1\" >4032</td>\n",
       "    </tr>\n",
       "    <tr>\n",
       "      <th id=\"T_c496e_level0_row3\" class=\"row_heading level0 row3\" >4</th>\n",
       "      <td id=\"T_c496e_row3_col0\" class=\"data row3 col0\" >stay</td>\n",
       "      <td id=\"T_c496e_row3_col1\" class=\"data row3 col1\" >2575</td>\n",
       "    </tr>\n",
       "    <tr>\n",
       "      <th id=\"T_c496e_level0_row4\" class=\"row_heading level0 row4\" >5</th>\n",
       "      <td id=\"T_c496e_row4_col0\" class=\"data row4 col0\" >rooms</td>\n",
       "      <td id=\"T_c496e_row4_col1\" class=\"data row4 col1\" >2247</td>\n",
       "    </tr>\n",
       "    <tr>\n",
       "      <th id=\"T_c496e_level0_row5\" class=\"row_heading level0 row5\" >6</th>\n",
       "      <td id=\"T_c496e_row5_col0\" class=\"data row5 col0\" >staff</td>\n",
       "      <td id=\"T_c496e_row5_col1\" class=\"data row5 col1\" >2241</td>\n",
       "    </tr>\n",
       "    <tr>\n",
       "      <th id=\"T_c496e_level0_row6\" class=\"row_heading level0 row6\" >7</th>\n",
       "      <td id=\"T_c496e_row6_col0\" class=\"data row6 col0\" >good</td>\n",
       "      <td id=\"T_c496e_row6_col1\" class=\"data row6 col1\" >2090</td>\n",
       "    </tr>\n",
       "    <tr>\n",
       "      <th id=\"T_c496e_level0_row7\" class=\"row_heading level0 row7\" >8</th>\n",
       "      <td id=\"T_c496e_row7_col0\" class=\"data row7 col0\" >service</td>\n",
       "      <td id=\"T_c496e_row7_col1\" class=\"data row7 col1\" >2027</td>\n",
       "    </tr>\n",
       "    <tr>\n",
       "      <th id=\"T_c496e_level0_row8\" class=\"row_heading level0 row8\" >9</th>\n",
       "      <td id=\"T_c496e_row8_col0\" class=\"data row8 col0\" >night</td>\n",
       "      <td id=\"T_c496e_row8_col1\" class=\"data row8 col1\" >2014</td>\n",
       "    </tr>\n",
       "  </tbody>\n",
       "</table>\n"
      ],
      "text/plain": [
       "<pandas.io.formats.style.Styler at 0x7fe46ac54a60>"
      ]
     },
     "execution_count": 23,
     "metadata": {},
     "output_type": "execute_result"
    }
   ],
   "source": [
    "# let's check common words on negative reviews\n",
    "\n",
    "x = review_org_data[review_org_data['Rating'].isin([1,2])]\n",
    "top = Counter([item for sublist in x['word_list'] for item in sublist])\n",
    "temp = pd.DataFrame(top.most_common(10))\n",
    "temp = temp.iloc[1:,:]\n",
    "temp.columns = ['Common_words','count']\n",
    "temp.style.background_gradient(cmap='Purples')"
   ]
  },
  {
   "cell_type": "code",
   "execution_count": 24,
   "id": "d1ac980e",
   "metadata": {},
   "outputs": [
    {
     "data": {
      "text/html": [
       "<style type=\"text/css\">\n",
       "#T_80d34_row0_col1 {\n",
       "  background-color: #3f007d;\n",
       "  color: #f1f1f1;\n",
       "}\n",
       "#T_80d34_row1_col1 {\n",
       "  background-color: #9e9bc8;\n",
       "  color: #f1f1f1;\n",
       "}\n",
       "#T_80d34_row2_col1 {\n",
       "  background-color: #c3c4e0;\n",
       "  color: #000000;\n",
       "}\n",
       "#T_80d34_row3_col1, #T_80d34_row4_col1 {\n",
       "  background-color: #edebf4;\n",
       "  color: #000000;\n",
       "}\n",
       "#T_80d34_row5_col1 {\n",
       "  background-color: #eeecf4;\n",
       "  color: #000000;\n",
       "}\n",
       "#T_80d34_row6_col1 {\n",
       "  background-color: #f3f1f7;\n",
       "  color: #000000;\n",
       "}\n",
       "#T_80d34_row7_col1 {\n",
       "  background-color: #faf9fc;\n",
       "  color: #000000;\n",
       "}\n",
       "#T_80d34_row8_col1 {\n",
       "  background-color: #fcfbfd;\n",
       "  color: #000000;\n",
       "}\n",
       "</style>\n",
       "<table id=\"T_80d34\">\n",
       "  <thead>\n",
       "    <tr>\n",
       "      <th class=\"blank level0\" >&nbsp;</th>\n",
       "      <th id=\"T_80d34_level0_col0\" class=\"col_heading level0 col0\" >Common_words</th>\n",
       "      <th id=\"T_80d34_level0_col1\" class=\"col_heading level0 col1\" >count</th>\n",
       "    </tr>\n",
       "  </thead>\n",
       "  <tbody>\n",
       "    <tr>\n",
       "      <th id=\"T_80d34_level0_row0\" class=\"row_heading level0 row0\" >1</th>\n",
       "      <td id=\"T_80d34_row0_col0\" class=\"data row0 col0\" >hotel</td>\n",
       "      <td id=\"T_80d34_row0_col1\" class=\"data row0 col1\" >35949</td>\n",
       "    </tr>\n",
       "    <tr>\n",
       "      <th id=\"T_80d34_level0_row1\" class=\"row_heading level0 row1\" >2</th>\n",
       "      <td id=\"T_80d34_row1_col0\" class=\"data row1 col0\" >room</td>\n",
       "      <td id=\"T_80d34_row1_col1\" class=\"data row1 col1\" >22299</td>\n",
       "    </tr>\n",
       "    <tr>\n",
       "      <th id=\"T_80d34_level0_row2\" class=\"row_heading level0 row2\" >3</th>\n",
       "      <td id=\"T_80d34_row2_col0\" class=\"data row2 col0\" >great</td>\n",
       "      <td id=\"T_80d34_row2_col1\" class=\"data row2 col1\" >18079</td>\n",
       "    </tr>\n",
       "    <tr>\n",
       "      <th id=\"T_80d34_level0_row3\" class=\"row_heading level0 row3\" >4</th>\n",
       "      <td id=\"T_80d34_row3_col0\" class=\"data row3 col0\" >staff</td>\n",
       "      <td id=\"T_80d34_row3_col1\" class=\"data row3 col1\" >12472</td>\n",
       "    </tr>\n",
       "    <tr>\n",
       "      <th id=\"T_80d34_level0_row4\" class=\"row_heading level0 row4\" >5</th>\n",
       "      <td id=\"T_80d34_row4_col0\" class=\"data row4 col0\" >good</td>\n",
       "      <td id=\"T_80d34_row4_col1\" class=\"data row4 col1\" >12402</td>\n",
       "    </tr>\n",
       "    <tr>\n",
       "      <th id=\"T_80d34_level0_row5\" class=\"row_heading level0 row5\" >6</th>\n",
       "      <td id=\"T_80d34_row5_col0\" class=\"data row5 col0\" >n't</td>\n",
       "      <td id=\"T_80d34_row5_col1\" class=\"data row5 col1\" >12364</td>\n",
       "    </tr>\n",
       "    <tr>\n",
       "      <th id=\"T_80d34_level0_row6\" class=\"row_heading level0 row6\" >7</th>\n",
       "      <td id=\"T_80d34_row6_col0\" class=\"data row6 col0\" >stay</td>\n",
       "      <td id=\"T_80d34_row6_col1\" class=\"data row6 col1\" >11154</td>\n",
       "    </tr>\n",
       "    <tr>\n",
       "      <th id=\"T_80d34_level0_row7\" class=\"row_heading level0 row7\" >8</th>\n",
       "      <td id=\"T_80d34_row7_col0\" class=\"data row7 col0\" >nice</td>\n",
       "      <td id=\"T_80d34_row7_col1\" class=\"data row7 col1\" >9233</td>\n",
       "    </tr>\n",
       "    <tr>\n",
       "      <th id=\"T_80d34_level0_row8\" class=\"row_heading level0 row8\" >9</th>\n",
       "      <td id=\"T_80d34_row8_col0\" class=\"data row8 col0\" >location</td>\n",
       "      <td id=\"T_80d34_row8_col1\" class=\"data row8 col1\" >8671</td>\n",
       "    </tr>\n",
       "  </tbody>\n",
       "</table>\n"
      ],
      "text/plain": [
       "<pandas.io.formats.style.Styler at 0x7fe58a6594f0>"
      ]
     },
     "execution_count": 24,
     "metadata": {},
     "output_type": "execute_result"
    }
   ],
   "source": [
    "# let's check common words on positive reviews\n",
    "\n",
    "x = review_org_data[review_org_data['Rating'].isin([4,5])]\n",
    "top = Counter([item for sublist in x['word_list'] for item in sublist])\n",
    "temp = pd.DataFrame(top.most_common(10))\n",
    "temp = temp.iloc[1:,:]\n",
    "temp.columns = ['Common_words','count']\n",
    "temp.style.background_gradient(cmap='Purples')"
   ]
  },
  {
   "cell_type": "markdown",
   "id": "ec228858",
   "metadata": {},
   "source": [
    "## 4. Observations of EDA\n",
    "**1. Dataset is skewed, postive ratings are more than negative ratings**\n",
    "\n",
    "**2. Most of the text length is below 500, we can use this info for bert model**\n",
    "\n",
    "**3. Tried checking the most common words for different corpus, didn't find much insights**"
   ]
  }
 ],
 "metadata": {
  "kernelspec": {
   "display_name": "torch",
   "language": "python",
   "name": "torch"
  },
  "language_info": {
   "codemirror_mode": {
    "name": "ipython",
    "version": 3
   },
   "file_extension": ".py",
   "mimetype": "text/x-python",
   "name": "python",
   "nbconvert_exporter": "python",
   "pygments_lexer": "ipython3",
   "version": "3.8.10"
  }
 },
 "nbformat": 4,
 "nbformat_minor": 5
}
