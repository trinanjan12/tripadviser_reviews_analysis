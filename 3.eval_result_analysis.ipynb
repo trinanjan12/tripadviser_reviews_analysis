{
 "cells": [
  {
   "cell_type": "markdown",
   "id": "e82d5278",
   "metadata": {},
   "source": [
    "# Evaluation on test data analysis\n",
    "### Notebook guide:\n",
    "***This notebook has the following parts***\n",
    "1. **Loading the data set** :  Load the hotel review dataset\n",
    "2. **Preprocessing** : using mostly textacy library make lowercase,remove whitespace,replace hashtaggs,phone_numers,urls,emails,remove html_tags punctuation,replace emoji by meaning\n",
    "3. **select features** : dropping outliers i.e very long text reviews\n",
    "4. **create train test split** : spliting the data(stratify) for train test eval\n",
    "5. **load best model and test** : checking f1 score on the test data\n",
    "6. **analysis on the test data** : analysis on the failed predictions\n",
    "7. **final thoughts**: thoughts on the results\n",
    "8. **future experiments**: how to improved the prediction in future \n",
    "\n",
    "### Note: \n",
    "1. ***goto point number 6 directly***\n",
    "1. Ratings are converted on a the scale of 0 to 4(from the original scale of 1-5), we can say ratings that are less than 2 are negative ratings and anything more than 2 is positive rating, 2 is neutral rating. This conversion is done for bert training.\n",
    "\n",
    "### References:\n",
    "1. https://github.com/huggingface/transformers/tree/master/examples/pytorch"
   ]
  },
  {
   "cell_type": "markdown",
   "id": "3404b821",
   "metadata": {},
   "source": [
    "# 1. Load the dataset "
   ]
  },
  {
   "cell_type": "code",
   "execution_count": 1,
   "id": "00afec80",
   "metadata": {},
   "outputs": [
    {
     "data": {
      "text/html": [
       "<div>\n",
       "<style scoped>\n",
       "    .dataframe tbody tr th:only-of-type {\n",
       "        vertical-align: middle;\n",
       "    }\n",
       "\n",
       "    .dataframe tbody tr th {\n",
       "        vertical-align: top;\n",
       "    }\n",
       "\n",
       "    .dataframe thead th {\n",
       "        text-align: right;\n",
       "    }\n",
       "</style>\n",
       "<table border=\"1\" class=\"dataframe\">\n",
       "  <thead>\n",
       "    <tr style=\"text-align: right;\">\n",
       "      <th></th>\n",
       "      <th>Review</th>\n",
       "      <th>Rating</th>\n",
       "    </tr>\n",
       "  </thead>\n",
       "  <tbody>\n",
       "    <tr>\n",
       "      <th>0</th>\n",
       "      <td>nice hotel expensive parking got good deal sta...</td>\n",
       "      <td>4</td>\n",
       "    </tr>\n",
       "    <tr>\n",
       "      <th>1</th>\n",
       "      <td>ok nothing special charge diamond member hilto...</td>\n",
       "      <td>2</td>\n",
       "    </tr>\n",
       "    <tr>\n",
       "      <th>2</th>\n",
       "      <td>nice rooms not 4* experience hotel monaco seat...</td>\n",
       "      <td>3</td>\n",
       "    </tr>\n",
       "    <tr>\n",
       "      <th>3</th>\n",
       "      <td>unique, great stay, wonderful time hotel monac...</td>\n",
       "      <td>5</td>\n",
       "    </tr>\n",
       "    <tr>\n",
       "      <th>4</th>\n",
       "      <td>great stay great stay, went seahawk game aweso...</td>\n",
       "      <td>5</td>\n",
       "    </tr>\n",
       "  </tbody>\n",
       "</table>\n",
       "</div>"
      ],
      "text/plain": [
       "                                              Review  Rating\n",
       "0  nice hotel expensive parking got good deal sta...       4\n",
       "1  ok nothing special charge diamond member hilto...       2\n",
       "2  nice rooms not 4* experience hotel monaco seat...       3\n",
       "3  unique, great stay, wonderful time hotel monac...       5\n",
       "4  great stay great stay, went seahawk game aweso...       5"
      ]
     },
     "execution_count": 1,
     "metadata": {},
     "output_type": "execute_result"
    }
   ],
   "source": [
    "import pandas as pd\n",
    "\n",
    "review_org_data = pd.read_csv('./data/tripadvisor_hotel_reviews.csv')\n",
    "review_org_dat = review_org_data.dropna().drop_duplicates()\n",
    "review_org_data.head()"
   ]
  },
  {
   "cell_type": "code",
   "execution_count": 2,
   "id": "31af110a",
   "metadata": {},
   "outputs": [
    {
     "name": "stdout",
     "output_type": "stream",
     "text": [
      "<class 'pandas.core.frame.DataFrame'>\n",
      "RangeIndex: 20491 entries, 0 to 20490\n",
      "Data columns (total 2 columns):\n",
      " #   Column  Non-Null Count  Dtype \n",
      "---  ------  --------------  ----- \n",
      " 0   Review  20491 non-null  object\n",
      " 1   Rating  20491 non-null  int64 \n",
      "dtypes: int64(1), object(1)\n",
      "memory usage: 320.3+ KB\n"
     ]
    }
   ],
   "source": [
    "review_org_data.info()"
   ]
  },
  {
   "cell_type": "code",
   "execution_count": 3,
   "id": "885780a8",
   "metadata": {},
   "outputs": [
    {
     "data": {
      "text/html": [
       "<div>\n",
       "<style scoped>\n",
       "    .dataframe tbody tr th:only-of-type {\n",
       "        vertical-align: middle;\n",
       "    }\n",
       "\n",
       "    .dataframe tbody tr th {\n",
       "        vertical-align: top;\n",
       "    }\n",
       "\n",
       "    .dataframe thead th {\n",
       "        text-align: right;\n",
       "    }\n",
       "</style>\n",
       "<table border=\"1\" class=\"dataframe\">\n",
       "  <thead>\n",
       "    <tr style=\"text-align: right;\">\n",
       "      <th></th>\n",
       "      <th>Review</th>\n",
       "      <th>Rating</th>\n",
       "    </tr>\n",
       "  </thead>\n",
       "  <tbody>\n",
       "    <tr>\n",
       "      <th>count</th>\n",
       "      <td>20491</td>\n",
       "      <td>20491.000000</td>\n",
       "    </tr>\n",
       "    <tr>\n",
       "      <th>unique</th>\n",
       "      <td>20491</td>\n",
       "      <td>NaN</td>\n",
       "    </tr>\n",
       "    <tr>\n",
       "      <th>top</th>\n",
       "      <td>nice hotel expensive parking got good deal sta...</td>\n",
       "      <td>NaN</td>\n",
       "    </tr>\n",
       "    <tr>\n",
       "      <th>freq</th>\n",
       "      <td>1</td>\n",
       "      <td>NaN</td>\n",
       "    </tr>\n",
       "    <tr>\n",
       "      <th>mean</th>\n",
       "      <td>NaN</td>\n",
       "      <td>3.952223</td>\n",
       "    </tr>\n",
       "    <tr>\n",
       "      <th>std</th>\n",
       "      <td>NaN</td>\n",
       "      <td>1.233030</td>\n",
       "    </tr>\n",
       "    <tr>\n",
       "      <th>min</th>\n",
       "      <td>NaN</td>\n",
       "      <td>1.000000</td>\n",
       "    </tr>\n",
       "    <tr>\n",
       "      <th>25%</th>\n",
       "      <td>NaN</td>\n",
       "      <td>3.000000</td>\n",
       "    </tr>\n",
       "    <tr>\n",
       "      <th>50%</th>\n",
       "      <td>NaN</td>\n",
       "      <td>4.000000</td>\n",
       "    </tr>\n",
       "    <tr>\n",
       "      <th>75%</th>\n",
       "      <td>NaN</td>\n",
       "      <td>5.000000</td>\n",
       "    </tr>\n",
       "    <tr>\n",
       "      <th>max</th>\n",
       "      <td>NaN</td>\n",
       "      <td>5.000000</td>\n",
       "    </tr>\n",
       "  </tbody>\n",
       "</table>\n",
       "</div>"
      ],
      "text/plain": [
       "                                                   Review        Rating\n",
       "count                                               20491  20491.000000\n",
       "unique                                              20491           NaN\n",
       "top     nice hotel expensive parking got good deal sta...           NaN\n",
       "freq                                                    1           NaN\n",
       "mean                                                  NaN      3.952223\n",
       "std                                                   NaN      1.233030\n",
       "min                                                   NaN      1.000000\n",
       "25%                                                   NaN      3.000000\n",
       "50%                                                   NaN      4.000000\n",
       "75%                                                   NaN      5.000000\n",
       "max                                                   NaN      5.000000"
      ]
     },
     "execution_count": 3,
     "metadata": {},
     "output_type": "execute_result"
    }
   ],
   "source": [
    "review_org_data.describe(include='all')"
   ]
  },
  {
   "cell_type": "code",
   "execution_count": 4,
   "id": "c96e5343",
   "metadata": {},
   "outputs": [
    {
     "data": {
      "text/plain": [
       "<AxesSubplot:>"
      ]
     },
     "execution_count": 4,
     "metadata": {},
     "output_type": "execute_result"
    },
    {
     "data": {
      "image/png": "[encoded data removed]",
      "text/plain": [
       "<Figure size 432x288 with 1 Axes>"
      ]
     },
     "metadata": {
      "needs_background": "light"
     },
     "output_type": "display_data"
    }
   ],
   "source": [
    "review_org_data['Rating'].hist()"
   ]
  },
  {
   "cell_type": "markdown",
   "id": "49dc6501",
   "metadata": {},
   "source": [
    "# 2. Preprocessing"
   ]
  },
  {
   "cell_type": "code",
   "execution_count": 5,
   "id": "d84d60be",
   "metadata": {},
   "outputs": [
    {
     "name": "stderr",
     "output_type": "stream",
     "text": [
      "[nltk_data] Downloading package stopwords to /home/ubuntu/nltk_data...\n",
      "[nltk_data]   Package stopwords is already up-to-date!\n"
     ]
    }
   ],
   "source": [
    "import re\n",
    "import textacy\n",
    "from textacy import preprocessing\n",
    "from emoji_translate.emoji_translate import Translator\n",
    "import nltk\n",
    "\n",
    "nltk.download('stopwords')\n",
    "\n",
    "emo = Translator(exact_match_only=False, randomize=True)\n",
    "\n",
    "\n",
    "def remove_stopword(x):\n",
    "    return [y for y in x.split(' ') if y not in stopwords.words('english')]\n",
    "\n",
    "\n",
    "#     return (' ').join([y for y in x.split(' ') if y not in stopwords.words('english')])\n",
    "\n",
    "\n",
    "def text_preprocessing(text):\n",
    "    '''\n",
    "     lowercase,remove whitespace,replace hashtaggs,phone_numers,urls,emails\n",
    "     remove html_tags punctuation\n",
    "     replace emoji by meaning\n",
    "    '''\n",
    "    text_new = text.lower()\n",
    "    text_new = re.sub(' +', ' ', text_new)\n",
    "    text_new = textacy.preprocessing.replace.hashtags(text_new, repl='_HASH_')\n",
    "    text_new = textacy.preprocessing.replace.phone_numbers(text_new,\n",
    "                                                           repl='_PHONENUM_')\n",
    "    text_new = textacy.preprocessing.remove.html_tags(text_new)\n",
    "    text_new = textacy.preprocessing.replace.urls(text_new, repl='_URL_')\n",
    "    text_new = textacy.preprocessing.replace.emails(text_new, repl='_EMAIL_')\n",
    "    text_new = textacy.preprocessing.remove.punctuation(text_new,\n",
    "                                                        only=[\",\", \";\", \":\"])\n",
    "    text_new = emo.demojify(text_new)\n",
    "    return text_new"
   ]
  },
  {
   "cell_type": "code",
   "execution_count": 6,
   "id": "3c714b31",
   "metadata": {},
   "outputs": [],
   "source": [
    "# TODO: using parallel processing here to make it faster\n",
    "review_org_data['clean_text'] = review_org_data['Review'].apply(\n",
    "    lambda x: text_preprocessing(x))"
   ]
  },
  {
   "cell_type": "markdown",
   "id": "05e5ab79",
   "metadata": {},
   "source": [
    "# 3. Selecting features"
   ]
  },
  {
   "cell_type": "code",
   "execution_count": 7,
   "id": "9d8c3119",
   "metadata": {},
   "outputs": [],
   "source": [
    "# converting rating from 0 to 4\n",
    "review_org_data['rating_from_0'] = review_org_data['Rating'].apply(\n",
    "    lambda x: x - 1)\n",
    "# checking text_length of reviews\n",
    "review_org_data['text_length'] = review_org_data['clean_text'].apply(\n",
    "    lambda x: len(x.split(\" \")))"
   ]
  },
  {
   "cell_type": "code",
   "execution_count": 8,
   "id": "e3ad1353",
   "metadata": {},
   "outputs": [
    {
     "name": "stdout",
     "output_type": "stream",
     "text": [
      "num of reviews having more than 512 words are 262\n"
     ]
    }
   ],
   "source": [
    "print('num of reviews having more than 512 words are ', end='')\n",
    "print(\n",
    "    len(review_org_data) -\n",
    "    len(review_org_data[review_org_data['text_length'] < 512]))"
   ]
  },
  {
   "cell_type": "code",
   "execution_count": 9,
   "id": "c95f0d85",
   "metadata": {},
   "outputs": [],
   "source": [
    "# let's remove them\n",
    "review_org_data = review_org_data[review_org_data['text_length'] < 512]"
   ]
  },
  {
   "cell_type": "code",
   "execution_count": 10,
   "id": "e35ad737",
   "metadata": {},
   "outputs": [],
   "source": [
    "# review_org_data[review_org_data['rating_from_0'] == 4].sort_values('text_length',ascending=False)"
   ]
  },
  {
   "cell_type": "markdown",
   "id": "fc3e340c",
   "metadata": {},
   "source": [
    "# 4. Create train test split"
   ]
  },
  {
   "cell_type": "code",
   "execution_count": 11,
   "id": "d2a2338a",
   "metadata": {},
   "outputs": [
    {
     "name": "stdout",
     "output_type": "stream",
     "text": [
      "creating train and test split ....\n"
     ]
    }
   ],
   "source": [
    "from sklearn.model_selection import train_test_split\n",
    "print('creating train and test split ....')\n",
    "\n",
    "X = review_org_data['clean_text']\n",
    "y = review_org_data['rating_from_0']\n",
    "\n",
    "\n",
    "X_train, X_test, y_train, y_test = train_test_split(\n",
    "        X, y,stratify=y, test_size=0.2, random_state = 2022)\n",
    "\n",
    "X_test, X_val, y_test, y_val = train_test_split(\n",
    "        X_test, y_test, stratify=y_test, test_size=0.5,random_state = 2022)"
   ]
  },
  {
   "cell_type": "code",
   "execution_count": 12,
   "id": "502701bd",
   "metadata": {},
   "outputs": [
    {
     "data": {
      "text/plain": [
       "(16183, 2023, 2023)"
      ]
     },
     "execution_count": 12,
     "metadata": {},
     "output_type": "execute_result"
    }
   ],
   "source": [
    "len(X_train),len(X_val),len(X_test)"
   ]
  },
  {
   "cell_type": "code",
   "execution_count": 20,
   "id": "e9a6dfcb",
   "metadata": {},
   "outputs": [
    {
     "data": {
      "text/plain": [
       "(Counter({0: 140, 3: 595, 2: 215, 4: 898, 1: 175}),\n",
       " Counter({4: 897, 3: 595, 0: 140, 1: 176, 2: 215}))"
      ]
     },
     "execution_count": 20,
     "metadata": {},
     "output_type": "execute_result"
    }
   ],
   "source": [
    "from collections import Counter\n",
    "Counter(list(y_val)),Counter(list(y_test))"
   ]
  },
  {
   "cell_type": "code",
   "execution_count": 21,
   "id": "08787ddb",
   "metadata": {},
   "outputs": [
    {
     "data": {
      "text/plain": [
       "True"
      ]
     },
     "execution_count": 21,
     "metadata": {},
     "output_type": "execute_result"
    }
   ],
   "source": [
    "import torch\n",
    "torch.cuda.is_available()"
   ]
  },
  {
   "cell_type": "markdown",
   "id": "7e8698ad",
   "metadata": {},
   "source": [
    "# 5. Load Model and test"
   ]
  },
  {
   "cell_type": "code",
   "execution_count": 33,
   "id": "b764d130",
   "metadata": {},
   "outputs": [],
   "source": [
    "import transformers as t"
   ]
  },
  {
   "cell_type": "code",
   "execution_count": 23,
   "id": "dc8db0ec",
   "metadata": {},
   "outputs": [
    {
     "data": {
      "text/plain": [
       "BertForSequenceClassification(\n",
       "  (bert): BertModel(\n",
       "    (embeddings): BertEmbeddings(\n",
       "      (word_embeddings): Embedding(30522, 768, padding_idx=0)\n",
       "      (position_embeddings): Embedding(512, 768)\n",
       "      (token_type_embeddings): Embedding(2, 768)\n",
       "      (LayerNorm): LayerNorm((768,), eps=1e-12, elementwise_affine=True)\n",
       "      (dropout): Dropout(p=0.1, inplace=False)\n",
       "    )\n",
       "    (encoder): BertEncoder(\n",
       "      (layer): ModuleList(\n",
       "        (0): BertLayer(\n",
       "          (attention): BertAttention(\n",
       "            (self): BertSelfAttention(\n",
       "              (query): Linear(in_features=768, out_features=768, bias=True)\n",
       "              (key): Linear(in_features=768, out_features=768, bias=True)\n",
       "              (value): Linear(in_features=768, out_features=768, bias=True)\n",
       "              (dropout): Dropout(p=0.1, inplace=False)\n",
       "            )\n",
       "            (output): BertSelfOutput(\n",
       "              (dense): Linear(in_features=768, out_features=768, bias=True)\n",
       "              (LayerNorm): LayerNorm((768,), eps=1e-12, elementwise_affine=True)\n",
       "              (dropout): Dropout(p=0.1, inplace=False)\n",
       "            )\n",
       "          )\n",
       "          (intermediate): BertIntermediate(\n",
       "            (dense): Linear(in_features=768, out_features=3072, bias=True)\n",
       "          )\n",
       "          (output): BertOutput(\n",
       "            (dense): Linear(in_features=3072, out_features=768, bias=True)\n",
       "            (LayerNorm): LayerNorm((768,), eps=1e-12, elementwise_affine=True)\n",
       "            (dropout): Dropout(p=0.1, inplace=False)\n",
       "          )\n",
       "        )\n",
       "        (1): BertLayer(\n",
       "          (attention): BertAttention(\n",
       "            (self): BertSelfAttention(\n",
       "              (query): Linear(in_features=768, out_features=768, bias=True)\n",
       "              (key): Linear(in_features=768, out_features=768, bias=True)\n",
       "              (value): Linear(in_features=768, out_features=768, bias=True)\n",
       "              (dropout): Dropout(p=0.1, inplace=False)\n",
       "            )\n",
       "            (output): BertSelfOutput(\n",
       "              (dense): Linear(in_features=768, out_features=768, bias=True)\n",
       "              (LayerNorm): LayerNorm((768,), eps=1e-12, elementwise_affine=True)\n",
       "              (dropout): Dropout(p=0.1, inplace=False)\n",
       "            )\n",
       "          )\n",
       "          (intermediate): BertIntermediate(\n",
       "            (dense): Linear(in_features=768, out_features=3072, bias=True)\n",
       "          )\n",
       "          (output): BertOutput(\n",
       "            (dense): Linear(in_features=3072, out_features=768, bias=True)\n",
       "            (LayerNorm): LayerNorm((768,), eps=1e-12, elementwise_affine=True)\n",
       "            (dropout): Dropout(p=0.1, inplace=False)\n",
       "          )\n",
       "        )\n",
       "        (2): BertLayer(\n",
       "          (attention): BertAttention(\n",
       "            (self): BertSelfAttention(\n",
       "              (query): Linear(in_features=768, out_features=768, bias=True)\n",
       "              (key): Linear(in_features=768, out_features=768, bias=True)\n",
       "              (value): Linear(in_features=768, out_features=768, bias=True)\n",
       "              (dropout): Dropout(p=0.1, inplace=False)\n",
       "            )\n",
       "            (output): BertSelfOutput(\n",
       "              (dense): Linear(in_features=768, out_features=768, bias=True)\n",
       "              (LayerNorm): LayerNorm((768,), eps=1e-12, elementwise_affine=True)\n",
       "              (dropout): Dropout(p=0.1, inplace=False)\n",
       "            )\n",
       "          )\n",
       "          (intermediate): BertIntermediate(\n",
       "            (dense): Linear(in_features=768, out_features=3072, bias=True)\n",
       "          )\n",
       "          (output): BertOutput(\n",
       "            (dense): Linear(in_features=3072, out_features=768, bias=True)\n",
       "            (LayerNorm): LayerNorm((768,), eps=1e-12, elementwise_affine=True)\n",
       "            (dropout): Dropout(p=0.1, inplace=False)\n",
       "          )\n",
       "        )\n",
       "        (3): BertLayer(\n",
       "          (attention): BertAttention(\n",
       "            (self): BertSelfAttention(\n",
       "              (query): Linear(in_features=768, out_features=768, bias=True)\n",
       "              (key): Linear(in_features=768, out_features=768, bias=True)\n",
       "              (value): Linear(in_features=768, out_features=768, bias=True)\n",
       "              (dropout): Dropout(p=0.1, inplace=False)\n",
       "            )\n",
       "            (output): BertSelfOutput(\n",
       "              (dense): Linear(in_features=768, out_features=768, bias=True)\n",
       "              (LayerNorm): LayerNorm((768,), eps=1e-12, elementwise_affine=True)\n",
       "              (dropout): Dropout(p=0.1, inplace=False)\n",
       "            )\n",
       "          )\n",
       "          (intermediate): BertIntermediate(\n",
       "            (dense): Linear(in_features=768, out_features=3072, bias=True)\n",
       "          )\n",
       "          (output): BertOutput(\n",
       "            (dense): Linear(in_features=3072, out_features=768, bias=True)\n",
       "            (LayerNorm): LayerNorm((768,), eps=1e-12, elementwise_affine=True)\n",
       "            (dropout): Dropout(p=0.1, inplace=False)\n",
       "          )\n",
       "        )\n",
       "        (4): BertLayer(\n",
       "          (attention): BertAttention(\n",
       "            (self): BertSelfAttention(\n",
       "              (query): Linear(in_features=768, out_features=768, bias=True)\n",
       "              (key): Linear(in_features=768, out_features=768, bias=True)\n",
       "              (value): Linear(in_features=768, out_features=768, bias=True)\n",
       "              (dropout): Dropout(p=0.1, inplace=False)\n",
       "            )\n",
       "            (output): BertSelfOutput(\n",
       "              (dense): Linear(in_features=768, out_features=768, bias=True)\n",
       "              (LayerNorm): LayerNorm((768,), eps=1e-12, elementwise_affine=True)\n",
       "              (dropout): Dropout(p=0.1, inplace=False)\n",
       "            )\n",
       "          )\n",
       "          (intermediate): BertIntermediate(\n",
       "            (dense): Linear(in_features=768, out_features=3072, bias=True)\n",
       "          )\n",
       "          (output): BertOutput(\n",
       "            (dense): Linear(in_features=3072, out_features=768, bias=True)\n",
       "            (LayerNorm): LayerNorm((768,), eps=1e-12, elementwise_affine=True)\n",
       "            (dropout): Dropout(p=0.1, inplace=False)\n",
       "          )\n",
       "        )\n",
       "        (5): BertLayer(\n",
       "          (attention): BertAttention(\n",
       "            (self): BertSelfAttention(\n",
       "              (query): Linear(in_features=768, out_features=768, bias=True)\n",
       "              (key): Linear(in_features=768, out_features=768, bias=True)\n",
       "              (value): Linear(in_features=768, out_features=768, bias=True)\n",
       "              (dropout): Dropout(p=0.1, inplace=False)\n",
       "            )\n",
       "            (output): BertSelfOutput(\n",
       "              (dense): Linear(in_features=768, out_features=768, bias=True)\n",
       "              (LayerNorm): LayerNorm((768,), eps=1e-12, elementwise_affine=True)\n",
       "              (dropout): Dropout(p=0.1, inplace=False)\n",
       "            )\n",
       "          )\n",
       "          (intermediate): BertIntermediate(\n",
       "            (dense): Linear(in_features=768, out_features=3072, bias=True)\n",
       "          )\n",
       "          (output): BertOutput(\n",
       "            (dense): Linear(in_features=3072, out_features=768, bias=True)\n",
       "            (LayerNorm): LayerNorm((768,), eps=1e-12, elementwise_affine=True)\n",
       "            (dropout): Dropout(p=0.1, inplace=False)\n",
       "          )\n",
       "        )\n",
       "        (6): BertLayer(\n",
       "          (attention): BertAttention(\n",
       "            (self): BertSelfAttention(\n",
       "              (query): Linear(in_features=768, out_features=768, bias=True)\n",
       "              (key): Linear(in_features=768, out_features=768, bias=True)\n",
       "              (value): Linear(in_features=768, out_features=768, bias=True)\n",
       "              (dropout): Dropout(p=0.1, inplace=False)\n",
       "            )\n",
       "            (output): BertSelfOutput(\n",
       "              (dense): Linear(in_features=768, out_features=768, bias=True)\n",
       "              (LayerNorm): LayerNorm((768,), eps=1e-12, elementwise_affine=True)\n",
       "              (dropout): Dropout(p=0.1, inplace=False)\n",
       "            )\n",
       "          )\n",
       "          (intermediate): BertIntermediate(\n",
       "            (dense): Linear(in_features=768, out_features=3072, bias=True)\n",
       "          )\n",
       "          (output): BertOutput(\n",
       "            (dense): Linear(in_features=3072, out_features=768, bias=True)\n",
       "            (LayerNorm): LayerNorm((768,), eps=1e-12, elementwise_affine=True)\n",
       "            (dropout): Dropout(p=0.1, inplace=False)\n",
       "          )\n",
       "        )\n",
       "        (7): BertLayer(\n",
       "          (attention): BertAttention(\n",
       "            (self): BertSelfAttention(\n",
       "              (query): Linear(in_features=768, out_features=768, bias=True)\n",
       "              (key): Linear(in_features=768, out_features=768, bias=True)\n",
       "              (value): Linear(in_features=768, out_features=768, bias=True)\n",
       "              (dropout): Dropout(p=0.1, inplace=False)\n",
       "            )\n",
       "            (output): BertSelfOutput(\n",
       "              (dense): Linear(in_features=768, out_features=768, bias=True)\n",
       "              (LayerNorm): LayerNorm((768,), eps=1e-12, elementwise_affine=True)\n",
       "              (dropout): Dropout(p=0.1, inplace=False)\n",
       "            )\n",
       "          )\n",
       "          (intermediate): BertIntermediate(\n",
       "            (dense): Linear(in_features=768, out_features=3072, bias=True)\n",
       "          )\n",
       "          (output): BertOutput(\n",
       "            (dense): Linear(in_features=3072, out_features=768, bias=True)\n",
       "            (LayerNorm): LayerNorm((768,), eps=1e-12, elementwise_affine=True)\n",
       "            (dropout): Dropout(p=0.1, inplace=False)\n",
       "          )\n",
       "        )\n",
       "        (8): BertLayer(\n",
       "          (attention): BertAttention(\n",
       "            (self): BertSelfAttention(\n",
       "              (query): Linear(in_features=768, out_features=768, bias=True)\n",
       "              (key): Linear(in_features=768, out_features=768, bias=True)\n",
       "              (value): Linear(in_features=768, out_features=768, bias=True)\n",
       "              (dropout): Dropout(p=0.1, inplace=False)\n",
       "            )\n",
       "            (output): BertSelfOutput(\n",
       "              (dense): Linear(in_features=768, out_features=768, bias=True)\n",
       "              (LayerNorm): LayerNorm((768,), eps=1e-12, elementwise_affine=True)\n",
       "              (dropout): Dropout(p=0.1, inplace=False)\n",
       "            )\n",
       "          )\n",
       "          (intermediate): BertIntermediate(\n",
       "            (dense): Linear(in_features=768, out_features=3072, bias=True)\n",
       "          )\n",
       "          (output): BertOutput(\n",
       "            (dense): Linear(in_features=3072, out_features=768, bias=True)\n",
       "            (LayerNorm): LayerNorm((768,), eps=1e-12, elementwise_affine=True)\n",
       "            (dropout): Dropout(p=0.1, inplace=False)\n",
       "          )\n",
       "        )\n",
       "        (9): BertLayer(\n",
       "          (attention): BertAttention(\n",
       "            (self): BertSelfAttention(\n",
       "              (query): Linear(in_features=768, out_features=768, bias=True)\n",
       "              (key): Linear(in_features=768, out_features=768, bias=True)\n",
       "              (value): Linear(in_features=768, out_features=768, bias=True)\n",
       "              (dropout): Dropout(p=0.1, inplace=False)\n",
       "            )\n",
       "            (output): BertSelfOutput(\n",
       "              (dense): Linear(in_features=768, out_features=768, bias=True)\n",
       "              (LayerNorm): LayerNorm((768,), eps=1e-12, elementwise_affine=True)\n",
       "              (dropout): Dropout(p=0.1, inplace=False)\n",
       "            )\n",
       "          )\n",
       "          (intermediate): BertIntermediate(\n",
       "            (dense): Linear(in_features=768, out_features=3072, bias=True)\n",
       "          )\n",
       "          (output): BertOutput(\n",
       "            (dense): Linear(in_features=3072, out_features=768, bias=True)\n",
       "            (LayerNorm): LayerNorm((768,), eps=1e-12, elementwise_affine=True)\n",
       "            (dropout): Dropout(p=0.1, inplace=False)\n",
       "          )\n",
       "        )\n",
       "        (10): BertLayer(\n",
       "          (attention): BertAttention(\n",
       "            (self): BertSelfAttention(\n",
       "              (query): Linear(in_features=768, out_features=768, bias=True)\n",
       "              (key): Linear(in_features=768, out_features=768, bias=True)\n",
       "              (value): Linear(in_features=768, out_features=768, bias=True)\n",
       "              (dropout): Dropout(p=0.1, inplace=False)\n",
       "            )\n",
       "            (output): BertSelfOutput(\n",
       "              (dense): Linear(in_features=768, out_features=768, bias=True)\n",
       "              (LayerNorm): LayerNorm((768,), eps=1e-12, elementwise_affine=True)\n",
       "              (dropout): Dropout(p=0.1, inplace=False)\n",
       "            )\n",
       "          )\n",
       "          (intermediate): BertIntermediate(\n",
       "            (dense): Linear(in_features=768, out_features=3072, bias=True)\n",
       "          )\n",
       "          (output): BertOutput(\n",
       "            (dense): Linear(in_features=3072, out_features=768, bias=True)\n",
       "            (LayerNorm): LayerNorm((768,), eps=1e-12, elementwise_affine=True)\n",
       "            (dropout): Dropout(p=0.1, inplace=False)\n",
       "          )\n",
       "        )\n",
       "        (11): BertLayer(\n",
       "          (attention): BertAttention(\n",
       "            (self): BertSelfAttention(\n",
       "              (query): Linear(in_features=768, out_features=768, bias=True)\n",
       "              (key): Linear(in_features=768, out_features=768, bias=True)\n",
       "              (value): Linear(in_features=768, out_features=768, bias=True)\n",
       "              (dropout): Dropout(p=0.1, inplace=False)\n",
       "            )\n",
       "            (output): BertSelfOutput(\n",
       "              (dense): Linear(in_features=768, out_features=768, bias=True)\n",
       "              (LayerNorm): LayerNorm((768,), eps=1e-12, elementwise_affine=True)\n",
       "              (dropout): Dropout(p=0.1, inplace=False)\n",
       "            )\n",
       "          )\n",
       "          (intermediate): BertIntermediate(\n",
       "            (dense): Linear(in_features=768, out_features=3072, bias=True)\n",
       "          )\n",
       "          (output): BertOutput(\n",
       "            (dense): Linear(in_features=3072, out_features=768, bias=True)\n",
       "            (LayerNorm): LayerNorm((768,), eps=1e-12, elementwise_affine=True)\n",
       "            (dropout): Dropout(p=0.1, inplace=False)\n",
       "          )\n",
       "        )\n",
       "      )\n",
       "    )\n",
       "    (pooler): BertPooler(\n",
       "      (dense): Linear(in_features=768, out_features=768, bias=True)\n",
       "      (activation): Tanh()\n",
       "    )\n",
       "  )\n",
       "  (dropout): Dropout(p=0.1, inplace=False)\n",
       "  (classifier): Linear(in_features=768, out_features=5, bias=True)\n",
       ")"
      ]
     },
     "execution_count": 23,
     "metadata": {},
     "output_type": "execute_result"
    }
   ],
   "source": [
    "model_ckpt = \"sentiment_analysis/checkpoint-20000/\"\n",
    "tokenizer = t.BertTokenizer.from_pretrained('bert-base-uncased')\n",
    "model = t.BertForSequenceClassification.from_pretrained(model_ckpt, num_labels=5).to(\"cuda\")\n",
    "model.eval()"
   ]
  },
  {
   "cell_type": "code",
   "execution_count": 26,
   "id": "a0bdd421",
   "metadata": {},
   "outputs": [],
   "source": [
    "class Create_Dataset(torch.utils.data.Dataset):\n",
    "\n",
    "    def __init__(self, reviews, ratings, tokenizer):\n",
    "\n",
    "        self.reviews = reviews\n",
    "        self.ratings = ratings\n",
    "        self.tokenizer = tokenizer\n",
    "        self.max_len = tokenizer.model_max_length\n",
    "\n",
    "    def __len__(self):\n",
    "        return len(self.reviews)\n",
    "\n",
    "    def __getitem__(self, index):\n",
    "        review = str(self.reviews[index])\n",
    "        ratings = self.ratings[index]\n",
    "\n",
    "        encoded_review = self.tokenizer.encode_plus(\n",
    "            review,\n",
    "            add_special_tokens=True,\n",
    "            max_length=self.max_len,\n",
    "            return_token_type_ids=False,\n",
    "            return_attention_mask=True,\n",
    "            return_tensors=\"pt\",\n",
    "            padding=\"max_length\",\n",
    "            truncation=True)\n",
    "\n",
    "        return {\n",
    "            'input_ids': encoded_review['input_ids'][0],\n",
    "            'attention_mask': encoded_review['attention_mask'][0],\n",
    "            'labels': torch.tensor(ratings, dtype=torch.long)\n",
    "        }"
   ]
  },
  {
   "cell_type": "code",
   "execution_count": 27,
   "id": "50e9f574",
   "metadata": {},
   "outputs": [],
   "source": [
    "test_dataset = Create_Dataset(\n",
    "    reviews=list(X_test),\n",
    "    ratings=list(y_test),\n",
    "    tokenizer=tokenizer,\n",
    ")"
   ]
  },
  {
   "cell_type": "code",
   "execution_count": 28,
   "id": "4fc04ac9",
   "metadata": {},
   "outputs": [],
   "source": [
    "from sklearn.metrics import accuracy_score, precision_recall_fscore_support\n",
    "def compute_metrics(pred):\n",
    "    labels = pred.label_ids\n",
    "    preds = pred.predictions.argmax(-1)\n",
    "    precision, recall, f1, _ = precision_recall_fscore_support(labels, preds, average='micro')\n",
    "    acc = accuracy_score(labels, preds)\n",
    "    return {\n",
    "        'accuracy': acc,\n",
    "        'f1': f1,\n",
    "        'precision': precision,\n",
    "        'recall': recall\n",
    "    }"
   ]
  },
  {
   "cell_type": "code",
   "execution_count": 29,
   "id": "30dbd6be",
   "metadata": {},
   "outputs": [],
   "source": [
    "test_trainer = t.Trainer(model)"
   ]
  },
  {
   "cell_type": "code",
   "execution_count": 30,
   "id": "cc7b0650",
   "metadata": {},
   "outputs": [
    {
     "name": "stderr",
     "output_type": "stream",
     "text": [
      "***** Running Prediction *****\n",
      "  Num examples = 2023\n",
      "  Batch size = 8\n"
     ]
    },
    {
     "data": {
      "text/html": [
       "\n",
       "    <div>\n",
       "      \n",
       "      <progress value='506' max='253' style='width:300px; height:20px; vertical-align: middle;'></progress>\n",
       "      [253/253 00:53]\n",
       "    </div>\n",
       "    "
      ],
      "text/plain": [
       "<IPython.core.display.HTML object>"
      ]
     },
     "metadata": {},
     "output_type": "display_data"
    }
   ],
   "source": [
    "final_pred = test_trainer.predict(test_dataset) "
   ]
  },
  {
   "cell_type": "code",
   "execution_count": 32,
   "id": "544f084b",
   "metadata": {},
   "outputs": [
    {
     "name": "stdout",
     "output_type": "stream",
     "text": [
      "              precision    recall  f1-score   support\n",
      "\n",
      "           0       0.72      0.61      0.66       140\n",
      "           1       0.50      0.57      0.53       176\n",
      "           2       0.47      0.45      0.46       215\n",
      "           3       0.56      0.58      0.57       595\n",
      "           4       0.78      0.77      0.78       897\n",
      "\n",
      "    accuracy                           0.65      2023\n",
      "   macro avg       0.61      0.60      0.60      2023\n",
      "weighted avg       0.65      0.65      0.65      2023\n",
      "\n"
     ]
    }
   ],
   "source": [
    "from sklearn.metrics import classification_report\n",
    "print(classification_report(list(final_pred.label_ids),list(final_pred.predictions.argmax(-1))))"
   ]
  },
  {
   "cell_type": "markdown",
   "id": "8359f9e2",
   "metadata": {},
   "source": [
    "# 6. analysis on the test data"
   ]
  },
  {
   "cell_type": "code",
   "execution_count": 59,
   "id": "c942da32",
   "metadata": {},
   "outputs": [],
   "source": [
    "device = 'cuda'"
   ]
  },
  {
   "cell_type": "code",
   "execution_count": 116,
   "id": "382d7d9f",
   "metadata": {},
   "outputs": [],
   "source": [
    "BATCH_SIZE = 8\n",
    "def predict_batch(text):\n",
    "    \n",
    "    if isinstance(text, str):\n",
    "        text = [ text ]\n",
    "        \n",
    "    NUMBER_OF_BATCHES = (BATCH_SIZE + len(text) - 1)//BATCH_SIZE\n",
    "    \n",
    "    predictions = []\n",
    "    for i in range(NUMBER_OF_BATCHES):\n",
    "        inputs = tokenizer.batch_encode_plus(text[i*BATCH_SIZE: (i+1)*BATCH_SIZE],\n",
    "                                         padding=True,\n",
    "                                         truncation=True,\n",
    "                                         max_length=512,\n",
    "                                         return_tensors=\"pt\").to(device)\n",
    "        each_batch_pred = torch.argmax(model(**inputs)['logits'],axis=1).detach().cpu().numpy().tolist()\n",
    "        predictions.append(each_batch_pred)\n",
    "    \n",
    "    return predictions"
   ]
  },
  {
   "cell_type": "code",
   "execution_count": 117,
   "id": "4edfbe90",
   "metadata": {
    "scrolled": true
   },
   "outputs": [],
   "source": [
    "batch_test_output = predict_batch(list(test_dataset.reviews))"
   ]
  },
  {
   "cell_type": "code",
   "execution_count": 118,
   "id": "557a620d",
   "metadata": {},
   "outputs": [],
   "source": [
    "batch_test_output = sum(batch_test_output,[])"
   ]
  },
  {
   "cell_type": "code",
   "execution_count": 119,
   "id": "724bc032",
   "metadata": {},
   "outputs": [],
   "source": [
    "test_df = pd.DataFrame({\n",
    "    'test_review': list(test_dataset.reviews),\n",
    "    'true_rating': list(test_dataset.ratings),\n",
    "    'pred_rating': list(batch_test_output)\n",
    "})"
   ]
  },
  {
   "cell_type": "code",
   "execution_count": 120,
   "id": "1f832126",
   "metadata": {},
   "outputs": [],
   "source": [
    "test_df['text_len'] = test_df['test_review'].apply(lambda x : len(x.split(' ')))\n",
    "test_df['ratings_pred_diff'] = test_df.apply(lambda x : abs(x['true_rating']-x['pred_rating']) , axis=1)"
   ]
  },
  {
   "cell_type": "code",
   "execution_count": 121,
   "id": "855fc7c7",
   "metadata": {},
   "outputs": [
    {
     "data": {
      "text/plain": [
       "4    689\n",
       "3    345\n",
       "1    101\n",
       "2     96\n",
       "0     86\n",
       "Name: true_rating, dtype: int64"
      ]
     },
     "execution_count": 121,
     "metadata": {},
     "output_type": "execute_result"
    }
   ],
   "source": [
    "test_df[test_df['true_rating'] == test_df['pred_rating']]['true_rating'].value_counts()"
   ]
  },
  {
   "cell_type": "code",
   "execution_count": 122,
   "id": "bd9efae6",
   "metadata": {},
   "outputs": [
    {
     "data": {
      "text/plain": [
       "3    270\n",
       "4    191\n",
       "2    109\n",
       "1    102\n",
       "0     34\n",
       "Name: pred_rating, dtype: int64"
      ]
     },
     "execution_count": 122,
     "metadata": {},
     "output_type": "execute_result"
    }
   ],
   "source": [
    "test_df[test_df['true_rating'] != test_df['pred_rating']]['pred_rating'].value_counts()"
   ]
  },
  {
   "cell_type": "code",
   "execution_count": 123,
   "id": "6a485b88",
   "metadata": {},
   "outputs": [
    {
     "data": {
      "text/plain": [
       "4    880\n",
       "3    615\n",
       "2    205\n",
       "1    203\n",
       "0    120\n",
       "Name: pred_rating, dtype: int64"
      ]
     },
     "execution_count": 123,
     "metadata": {},
     "output_type": "execute_result"
    }
   ],
   "source": [
    "test_df['pred_rating'].value_counts()"
   ]
  },
  {
   "cell_type": "code",
   "execution_count": 124,
   "id": "c6b766ac",
   "metadata": {},
   "outputs": [
    {
     "name": "stdout",
     "output_type": "stream",
     "text": [
      "              precision    recall  f1-score   support\n",
      "\n",
      "           0       0.72      0.61      0.66       140\n",
      "           1       0.50      0.57      0.53       176\n",
      "           2       0.47      0.45      0.46       215\n",
      "           3       0.56      0.58      0.57       595\n",
      "           4       0.78      0.77      0.78       897\n",
      "\n",
      "    accuracy                           0.65      2023\n",
      "   macro avg       0.61      0.60      0.60      2023\n",
      "weighted avg       0.65      0.65      0.65      2023\n",
      "\n"
     ]
    }
   ],
   "source": [
    "print(classification_report(list(test_df['true_rating']),list(test_df['pred_rating'])))"
   ]
  },
  {
   "cell_type": "code",
   "execution_count": 125,
   "id": "264803ed",
   "metadata": {},
   "outputs": [
    {
     "data": {
      "text/html": [
       "<div>\n",
       "<style scoped>\n",
       "    .dataframe tbody tr th:only-of-type {\n",
       "        vertical-align: middle;\n",
       "    }\n",
       "\n",
       "    .dataframe tbody tr th {\n",
       "        vertical-align: top;\n",
       "    }\n",
       "\n",
       "    .dataframe thead th {\n",
       "        text-align: right;\n",
       "    }\n",
       "</style>\n",
       "<table border=\"1\" class=\"dataframe\">\n",
       "  <thead>\n",
       "    <tr style=\"text-align: right;\">\n",
       "      <th></th>\n",
       "      <th>test_review</th>\n",
       "      <th>true_rating</th>\n",
       "      <th>pred_rating</th>\n",
       "      <th>text_len</th>\n",
       "      <th>ratings_pred_diff</th>\n",
       "    </tr>\n",
       "  </thead>\n",
       "  <tbody>\n",
       "    <tr>\n",
       "      <th>470</th>\n",
       "      <td>got married palace loved little background wif...</td>\n",
       "      <td>4</td>\n",
       "      <td>3</td>\n",
       "      <td>498</td>\n",
       "      <td>1</td>\n",
       "    </tr>\n",
       "    <tr>\n",
       "      <th>251</th>\n",
       "      <td>checked reviews booked trip sounded ok sounded...</td>\n",
       "      <td>1</td>\n",
       "      <td>0</td>\n",
       "      <td>490</td>\n",
       "      <td>1</td>\n",
       "    </tr>\n",
       "    <tr>\n",
       "      <th>1727</th>\n",
       "      <td>trip nyc spent long weekend westin times squar...</td>\n",
       "      <td>3</td>\n",
       "      <td>4</td>\n",
       "      <td>479</td>\n",
       "      <td>1</td>\n",
       "    </tr>\n",
       "    <tr>\n",
       "      <th>790</th>\n",
       "      <td>sunshine white beaches relaxation wow  sunshin...</td>\n",
       "      <td>4</td>\n",
       "      <td>3</td>\n",
       "      <td>470</td>\n",
       "      <td>1</td>\n",
       "    </tr>\n",
       "    <tr>\n",
       "      <th>1657</th>\n",
       "      <td>great time  husband 4 day 3 night vacation 5/1...</td>\n",
       "      <td>4</td>\n",
       "      <td>3</td>\n",
       "      <td>443</td>\n",
       "      <td>1</td>\n",
       "    </tr>\n",
       "    <tr>\n",
       "      <th>...</th>\n",
       "      <td>...</td>\n",
       "      <td>...</td>\n",
       "      <td>...</td>\n",
       "      <td>...</td>\n",
       "      <td>...</td>\n",
       "    </tr>\n",
       "    <tr>\n",
       "      <th>1147</th>\n",
       "      <td>2nd time allways good second time went hotel  ...</td>\n",
       "      <td>4</td>\n",
       "      <td>3</td>\n",
       "      <td>19</td>\n",
       "      <td>1</td>\n",
       "    </tr>\n",
       "    <tr>\n",
       "      <th>1867</th>\n",
       "      <td>hotel residence henri iv great hotel recently ...</td>\n",
       "      <td>4</td>\n",
       "      <td>3</td>\n",
       "      <td>18</td>\n",
       "      <td>1</td>\n",
       "    </tr>\n",
       "    <tr>\n",
       "      <th>110</th>\n",
       "      <td>nice stayed silver cloud pre-cruise  impressed...</td>\n",
       "      <td>4</td>\n",
       "      <td>3</td>\n",
       "      <td>17</td>\n",
       "      <td>1</td>\n",
       "    </tr>\n",
       "    <tr>\n",
       "      <th>458</th>\n",
       "      <td>miramar offers outstanding location great hong...</td>\n",
       "      <td>3</td>\n",
       "      <td>4</td>\n",
       "      <td>16</td>\n",
       "      <td>1</td>\n",
       "    </tr>\n",
       "    <tr>\n",
       "      <th>732</th>\n",
       "      <td>nice great beach best seen punta cana  food da...</td>\n",
       "      <td>2</td>\n",
       "      <td>1</td>\n",
       "      <td>15</td>\n",
       "      <td>1</td>\n",
       "    </tr>\n",
       "  </tbody>\n",
       "</table>\n",
       "<p>706 rows × 5 columns</p>\n",
       "</div>"
      ],
      "text/plain": [
       "                                            test_review  true_rating  \\\n",
       "470   got married palace loved little background wif...            4   \n",
       "251   checked reviews booked trip sounded ok sounded...            1   \n",
       "1727  trip nyc spent long weekend westin times squar...            3   \n",
       "790   sunshine white beaches relaxation wow  sunshin...            4   \n",
       "1657  great time  husband 4 day 3 night vacation 5/1...            4   \n",
       "...                                                 ...          ...   \n",
       "1147  2nd time allways good second time went hotel  ...            4   \n",
       "1867  hotel residence henri iv great hotel recently ...            4   \n",
       "110   nice stayed silver cloud pre-cruise  impressed...            4   \n",
       "458   miramar offers outstanding location great hong...            3   \n",
       "732   nice great beach best seen punta cana  food da...            2   \n",
       "\n",
       "      pred_rating  text_len  ratings_pred_diff  \n",
       "470             3       498                  1  \n",
       "251             0       490                  1  \n",
       "1727            4       479                  1  \n",
       "790             3       470                  1  \n",
       "1657            3       443                  1  \n",
       "...           ...       ...                ...  \n",
       "1147            3        19                  1  \n",
       "1867            3        18                  1  \n",
       "110             3        17                  1  \n",
       "458             4        16                  1  \n",
       "732             1        15                  1  \n",
       "\n",
       "[706 rows x 5 columns]"
      ]
     },
     "execution_count": 125,
     "metadata": {},
     "output_type": "execute_result"
    }
   ],
   "source": [
    "test_df[test_df['true_rating'] != test_df['pred_rating']].sort_values(['text_len'],ascending=False)"
   ]
  },
  {
   "cell_type": "code",
   "execution_count": 126,
   "id": "d9816d25",
   "metadata": {},
   "outputs": [
    {
     "data": {
      "text/html": [
       "<div>\n",
       "<style scoped>\n",
       "    .dataframe tbody tr th:only-of-type {\n",
       "        vertical-align: middle;\n",
       "    }\n",
       "\n",
       "    .dataframe tbody tr th {\n",
       "        vertical-align: top;\n",
       "    }\n",
       "\n",
       "    .dataframe thead th {\n",
       "        text-align: right;\n",
       "    }\n",
       "</style>\n",
       "<table border=\"1\" class=\"dataframe\">\n",
       "  <thead>\n",
       "    <tr style=\"text-align: right;\">\n",
       "      <th></th>\n",
       "      <th>test_review</th>\n",
       "      <th>true_rating</th>\n",
       "      <th>pred_rating</th>\n",
       "      <th>text_len</th>\n",
       "      <th>ratings_pred_diff</th>\n",
       "    </tr>\n",
       "  </thead>\n",
       "  <tbody>\n",
       "    <tr>\n",
       "      <th>56</th>\n",
       "      <td>great time past week march 3rd 4 girlfriends s...</td>\n",
       "      <td>1</td>\n",
       "      <td>4</td>\n",
       "      <td>102</td>\n",
       "      <td>3</td>\n",
       "    </tr>\n",
       "    <tr>\n",
       "      <th>341</th>\n",
       "      <td>best manger went bambu june 19-26. punta cana ...</td>\n",
       "      <td>4</td>\n",
       "      <td>0</td>\n",
       "      <td>195</td>\n",
       "      <td>4</td>\n",
       "    </tr>\n",
       "    <tr>\n",
       "      <th>710</th>\n",
       "      <td>bril botel  sarah chick tourmarch 23-26we grou...</td>\n",
       "      <td>4</td>\n",
       "      <td>1</td>\n",
       "      <td>69</td>\n",
       "      <td>3</td>\n",
       "    </tr>\n",
       "    <tr>\n",
       "      <th>765</th>\n",
       "      <td>best vac  melia 5th feb 12th  niece there3 wee...</td>\n",
       "      <td>4</td>\n",
       "      <td>1</td>\n",
       "      <td>129</td>\n",
       "      <td>3</td>\n",
       "    </tr>\n",
       "    <tr>\n",
       "      <th>960</th>\n",
       "      <td>best hotel barcelona read reviews hotel did no...</td>\n",
       "      <td>4</td>\n",
       "      <td>1</td>\n",
       "      <td>93</td>\n",
       "      <td>3</td>\n",
       "    </tr>\n",
       "    <tr>\n",
       "      <th>1222</th>\n",
       "      <td>finally non-smoking hotel  say apart spot  fin...</td>\n",
       "      <td>4</td>\n",
       "      <td>1</td>\n",
       "      <td>103</td>\n",
       "      <td>3</td>\n",
       "    </tr>\n",
       "    <tr>\n",
       "      <th>1281</th>\n",
       "      <td>loved hotel husband stayed embassy suites phoe...</td>\n",
       "      <td>0</td>\n",
       "      <td>3</td>\n",
       "      <td>66</td>\n",
       "      <td>3</td>\n",
       "    </tr>\n",
       "    <tr>\n",
       "      <th>1739</th>\n",
       "      <td>expensive great stayed marriott courtyard nigh...</td>\n",
       "      <td>4</td>\n",
       "      <td>1</td>\n",
       "      <td>78</td>\n",
       "      <td>3</td>\n",
       "    </tr>\n",
       "    <tr>\n",
       "      <th>1871</th>\n",
       "      <td>rent condo esj towers rented condo esj towers ...</td>\n",
       "      <td>4</td>\n",
       "      <td>1</td>\n",
       "      <td>75</td>\n",
       "      <td>3</td>\n",
       "    </tr>\n",
       "  </tbody>\n",
       "</table>\n",
       "</div>"
      ],
      "text/plain": [
       "                                            test_review  true_rating  \\\n",
       "56    great time past week march 3rd 4 girlfriends s...            1   \n",
       "341   best manger went bambu june 19-26. punta cana ...            4   \n",
       "710   bril botel  sarah chick tourmarch 23-26we grou...            4   \n",
       "765   best vac  melia 5th feb 12th  niece there3 wee...            4   \n",
       "960   best hotel barcelona read reviews hotel did no...            4   \n",
       "1222  finally non-smoking hotel  say apart spot  fin...            4   \n",
       "1281  loved hotel husband stayed embassy suites phoe...            0   \n",
       "1739  expensive great stayed marriott courtyard nigh...            4   \n",
       "1871  rent condo esj towers rented condo esj towers ...            4   \n",
       "\n",
       "      pred_rating  text_len  ratings_pred_diff  \n",
       "56              4       102                  3  \n",
       "341             0       195                  4  \n",
       "710             1        69                  3  \n",
       "765             1       129                  3  \n",
       "960             1        93                  3  \n",
       "1222            1       103                  3  \n",
       "1281            3        66                  3  \n",
       "1739            1        78                  3  \n",
       "1871            1        75                  3  "
      ]
     },
     "execution_count": 126,
     "metadata": {},
     "output_type": "execute_result"
    }
   ],
   "source": [
    "test_df[test_df['ratings_pred_diff'] > 2]"
   ]
  },
  {
   "cell_type": "code",
   "execution_count": 128,
   "id": "66665c25",
   "metadata": {},
   "outputs": [
    {
     "data": {
      "text/plain": [
       "'expensive great stayed marriott courtyard night boarding caribbean cruise  choice mainly based fact hotels royal caribbean passengers cruise  expensive hours spent high standard close port  checkin 3pm checkout 12 noon  generally accommodating requested 1pm checkout maid not aware insisted leave 12 noon  taxi cost 12 14 port  negative breakfast extremely expensive  not worry supermarket couple eating places road  terms location good port appears little need prepared taxi tourist areas '"
      ]
     },
     "execution_count": 128,
     "metadata": {},
     "output_type": "execute_result"
    }
   ],
   "source": [
    "test_df[test_df['ratings_pred_diff'] > 2].loc[1739]['test_review']"
   ]
  },
  {
   "cell_type": "markdown",
   "id": "271a7f98",
   "metadata": {},
   "source": [
    "# 7. Final thoughts\n",
    "## -- It is really hard to predict if the reviews are sometime positive or negative\n",
    "## -- we see that the model is not failing a lot. Because It is not predicting totally opposit ratings. The predictions are nearby to the original rating and mostly off by 1 value\n",
    "## -- In my test data I can see only 9 reviews were predicted totally wrong. As in the true rating and the predicted rating difference is more that 2, i.e if the true rating is 4(on a scale of 0-4), in some cases they are being predicted as 1 or 0."
   ]
  },
  {
   "cell_type": "markdown",
   "id": "9971c0ed",
   "metadata": {},
   "source": [
    "# 8. TODO/Furure experiments\n",
    "## -- try spelling corrector\n",
    "## -- don't remove the stop words\n",
    "## -- need to check if I can use better embeddings\n",
    "## -- somewhere I saw people are using combination of tfidf and elmo embeddings, because tfidf works better with short text\n",
    "## -- dataset sampling techniques for balancing or generating synthetic data"
   ]
  },
  {
   "cell_type": "code",
   "execution_count": null,
   "id": "883850a8",
   "metadata": {},
   "outputs": [],
   "source": []
  }
 ],
 "metadata": {
  "kernelspec": {
   "display_name": "torch",
   "language": "python",
   "name": "torch"
  },
  "language_info": {
   "codemirror_mode": {
    "name": "ipython",
    "version": 3
   },
   "file_extension": ".py",
   "mimetype": "text/x-python",
   "name": "python",
   "nbconvert_exporter": "python",
   "pygments_lexer": "ipython3",
   "version": "3.8.10"
  }
 },
 "nbformat": 4,
 "nbformat_minor": 5
}
